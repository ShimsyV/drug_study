{
 "cells": [
  {
   "cell_type": "code",
   "execution_count": 1,
   "metadata": {},
   "outputs": [],
   "source": [
    "from scipy import stats\n",
    "import numpy as np\n",
    "import pandas as pd\n",
    "import os\n",
    "import random\n",
    "import csv\n",
    "from pprint import pprint"
   ]
  },
  {
   "cell_type": "code",
   "execution_count": 2,
   "metadata": {},
   "outputs": [
    {
     "data": {
      "text/html": [
       "<div>\n",
       "<style scoped>\n",
       "    .dataframe tbody tr th:only-of-type {\n",
       "        vertical-align: middle;\n",
       "    }\n",
       "\n",
       "    .dataframe tbody tr th {\n",
       "        vertical-align: top;\n",
       "    }\n",
       "\n",
       "    .dataframe thead th {\n",
       "        text-align: right;\n",
       "    }\n",
       "</style>\n",
       "<table border=\"1\" class=\"dataframe\">\n",
       "  <thead>\n",
       "    <tr style=\"text-align: right;\">\n",
       "      <th></th>\n",
       "      <th>State</th>\n",
       "      <th>Year</th>\n",
       "      <th>Month</th>\n",
       "      <th>Period</th>\n",
       "      <th>Drug Name</th>\n",
       "      <th>Death Count</th>\n",
       "      <th>Percent Complete</th>\n",
       "      <th>Percent Pending Investigation</th>\n",
       "      <th>State Name</th>\n",
       "      <th>Footnote</th>\n",
       "      <th>Footnote Symbol</th>\n",
       "      <th>Predicted Value</th>\n",
       "    </tr>\n",
       "  </thead>\n",
       "  <tbody>\n",
       "    <tr>\n",
       "      <th>0</th>\n",
       "      <td>AK</td>\n",
       "      <td>2015</td>\n",
       "      <td>April</td>\n",
       "      <td>12 month-ending</td>\n",
       "      <td>Natural &amp; semi-synthetic opioids, incl. methad...</td>\n",
       "      <td>NaN</td>\n",
       "      <td>100</td>\n",
       "      <td>0.0</td>\n",
       "      <td>Alaska</td>\n",
       "      <td>Numbers may differ from published reports usin...</td>\n",
       "      <td>**</td>\n",
       "      <td>NaN</td>\n",
       "    </tr>\n",
       "    <tr>\n",
       "      <th>1</th>\n",
       "      <td>AK</td>\n",
       "      <td>2015</td>\n",
       "      <td>April</td>\n",
       "      <td>12 month-ending</td>\n",
       "      <td>Cocaine (T40.5)</td>\n",
       "      <td>NaN</td>\n",
       "      <td>100</td>\n",
       "      <td>0.0</td>\n",
       "      <td>Alaska</td>\n",
       "      <td>Numbers may differ from published reports usin...</td>\n",
       "      <td>**</td>\n",
       "      <td>NaN</td>\n",
       "    </tr>\n",
       "    <tr>\n",
       "      <th>2</th>\n",
       "      <td>AK</td>\n",
       "      <td>2015</td>\n",
       "      <td>April</td>\n",
       "      <td>12 month-ending</td>\n",
       "      <td>Psychostimulants with abuse potential (T43.6)</td>\n",
       "      <td>NaN</td>\n",
       "      <td>100</td>\n",
       "      <td>0.0</td>\n",
       "      <td>Alaska</td>\n",
       "      <td>Numbers may differ from published reports usin...</td>\n",
       "      <td>**</td>\n",
       "      <td>NaN</td>\n",
       "    </tr>\n",
       "    <tr>\n",
       "      <th>3</th>\n",
       "      <td>AK</td>\n",
       "      <td>2015</td>\n",
       "      <td>April</td>\n",
       "      <td>12 month-ending</td>\n",
       "      <td>Opioids (T40.0-T40.4,T40.6)</td>\n",
       "      <td>NaN</td>\n",
       "      <td>100</td>\n",
       "      <td>0.0</td>\n",
       "      <td>Alaska</td>\n",
       "      <td>Numbers may differ from published reports usin...</td>\n",
       "      <td>**</td>\n",
       "      <td>NaN</td>\n",
       "    </tr>\n",
       "    <tr>\n",
       "      <th>4</th>\n",
       "      <td>AK</td>\n",
       "      <td>2015</td>\n",
       "      <td>April</td>\n",
       "      <td>12 month-ending</td>\n",
       "      <td>Number of Deaths</td>\n",
       "      <td>4133.0</td>\n",
       "      <td>100</td>\n",
       "      <td>0.0</td>\n",
       "      <td>Alaska</td>\n",
       "      <td>Numbers may differ from published reports usin...</td>\n",
       "      <td>**</td>\n",
       "      <td>NaN</td>\n",
       "    </tr>\n",
       "  </tbody>\n",
       "</table>\n",
       "</div>"
      ],
      "text/plain": [
       "  State  Year  Month           Period  \\\n",
       "0    AK  2015  April  12 month-ending   \n",
       "1    AK  2015  April  12 month-ending   \n",
       "2    AK  2015  April  12 month-ending   \n",
       "3    AK  2015  April  12 month-ending   \n",
       "4    AK  2015  April  12 month-ending   \n",
       "\n",
       "                                           Drug Name  Death Count  \\\n",
       "0  Natural & semi-synthetic opioids, incl. methad...          NaN   \n",
       "1                                    Cocaine (T40.5)          NaN   \n",
       "2      Psychostimulants with abuse potential (T43.6)          NaN   \n",
       "3                        Opioids (T40.0-T40.4,T40.6)          NaN   \n",
       "4                                   Number of Deaths       4133.0   \n",
       "\n",
       "  Percent Complete  Percent Pending Investigation State Name  \\\n",
       "0              100                            0.0     Alaska   \n",
       "1              100                            0.0     Alaska   \n",
       "2              100                            0.0     Alaska   \n",
       "3              100                            0.0     Alaska   \n",
       "4              100                            0.0     Alaska   \n",
       "\n",
       "                                            Footnote Footnote Symbol  \\\n",
       "0  Numbers may differ from published reports usin...              **   \n",
       "1  Numbers may differ from published reports usin...              **   \n",
       "2  Numbers may differ from published reports usin...              **   \n",
       "3  Numbers may differ from published reports usin...              **   \n",
       "4  Numbers may differ from published reports usin...              **   \n",
       "\n",
       "   Predicted Value  \n",
       "0              NaN  \n",
       "1              NaN  \n",
       "2              NaN  \n",
       "3              NaN  \n",
       "4              NaN  "
      ]
     },
     "execution_count": 2,
     "metadata": {},
     "output_type": "execute_result"
    }
   ],
   "source": [
    "#read csv\n",
    "drug_table = os.path.join(\"Drug_Overdose.csv\")\n",
    "file_path = pd.read_csv(drug_table)\n",
    "file_path = file_path\n",
    "file_path = file_path.rename(columns = {\"Data Value\": \"Death Count\"})\n",
    "file_path = file_path.rename(columns = {\"Indicator\": \"Drug Name\"})\n",
    "file_path.head()"
   ]
  },
  {
   "cell_type": "code",
   "execution_count": 3,
   "metadata": {},
   "outputs": [],
   "source": [
    "value_df = file_path[file_path['Year'] >= 2016]"
   ]
  },
  {
   "cell_type": "code",
   "execution_count": 4,
   "metadata": {},
   "outputs": [
    {
     "data": {
      "text/html": [
       "<div>\n",
       "<style scoped>\n",
       "    .dataframe tbody tr th:only-of-type {\n",
       "        vertical-align: middle;\n",
       "    }\n",
       "\n",
       "    .dataframe tbody tr th {\n",
       "        vertical-align: top;\n",
       "    }\n",
       "\n",
       "    .dataframe thead th {\n",
       "        text-align: right;\n",
       "    }\n",
       "</style>\n",
       "<table border=\"1\" class=\"dataframe\">\n",
       "  <thead>\n",
       "    <tr style=\"text-align: right;\">\n",
       "      <th></th>\n",
       "      <th>State</th>\n",
       "      <th>Year</th>\n",
       "      <th>Month</th>\n",
       "      <th>Drug Name</th>\n",
       "      <th>Death Count</th>\n",
       "      <th>Percent Complete</th>\n",
       "      <th>Percent Pending Investigation</th>\n",
       "      <th>Predicted Value</th>\n",
       "    </tr>\n",
       "  </thead>\n",
       "  <tbody>\n",
       "    <tr>\n",
       "      <th>144</th>\n",
       "      <td>AK</td>\n",
       "      <td>2016</td>\n",
       "      <td>April</td>\n",
       "      <td>Natural &amp; semi-synthetic opioids, incl. methad...</td>\n",
       "      <td>68.0</td>\n",
       "      <td>100</td>\n",
       "      <td>0.0</td>\n",
       "      <td>68.0</td>\n",
       "    </tr>\n",
       "    <tr>\n",
       "      <th>145</th>\n",
       "      <td>AK</td>\n",
       "      <td>2016</td>\n",
       "      <td>April</td>\n",
       "      <td>Cocaine (T40.5)</td>\n",
       "      <td>11.0</td>\n",
       "      <td>100</td>\n",
       "      <td>0.0</td>\n",
       "      <td>11.0</td>\n",
       "    </tr>\n",
       "    <tr>\n",
       "      <th>146</th>\n",
       "      <td>AK</td>\n",
       "      <td>2016</td>\n",
       "      <td>April</td>\n",
       "      <td>Number of Drug Overdose Deaths</td>\n",
       "      <td>132.0</td>\n",
       "      <td>100</td>\n",
       "      <td>0.0</td>\n",
       "      <td>132.0</td>\n",
       "    </tr>\n",
       "    <tr>\n",
       "      <th>147</th>\n",
       "      <td>AK</td>\n",
       "      <td>2016</td>\n",
       "      <td>April</td>\n",
       "      <td>Psychostimulants with abuse potential (T43.6)</td>\n",
       "      <td>35.0</td>\n",
       "      <td>100</td>\n",
       "      <td>0.0</td>\n",
       "      <td>36.0</td>\n",
       "    </tr>\n",
       "    <tr>\n",
       "      <th>148</th>\n",
       "      <td>AK</td>\n",
       "      <td>2016</td>\n",
       "      <td>April</td>\n",
       "      <td>Number of Deaths</td>\n",
       "      <td>4262.0</td>\n",
       "      <td>100</td>\n",
       "      <td>0.0</td>\n",
       "      <td>NaN</td>\n",
       "    </tr>\n",
       "  </tbody>\n",
       "</table>\n",
       "</div>"
      ],
      "text/plain": [
       "    State  Year  Month                                          Drug Name  \\\n",
       "144    AK  2016  April  Natural & semi-synthetic opioids, incl. methad...   \n",
       "145    AK  2016  April                                    Cocaine (T40.5)   \n",
       "146    AK  2016  April                     Number of Drug Overdose Deaths   \n",
       "147    AK  2016  April      Psychostimulants with abuse potential (T43.6)   \n",
       "148    AK  2016  April                                   Number of Deaths   \n",
       "\n",
       "     Death Count Percent Complete  Percent Pending Investigation  \\\n",
       "144         68.0              100                            0.0   \n",
       "145         11.0              100                            0.0   \n",
       "146        132.0              100                            0.0   \n",
       "147         35.0              100                            0.0   \n",
       "148       4262.0              100                            0.0   \n",
       "\n",
       "     Predicted Value  \n",
       "144             68.0  \n",
       "145             11.0  \n",
       "146            132.0  \n",
       "147             36.0  \n",
       "148              NaN  "
      ]
     },
     "execution_count": 4,
     "metadata": {},
     "output_type": "execute_result"
    }
   ],
   "source": [
    "# retrieve the required fields\n",
    "value_df= pd.DataFrame(value_df[['State', 'Year', 'Month','Drug Name','Death Count',\n",
    "                   'Percent Complete','Percent Pending Investigation','Predicted Value']])\n",
    "\n",
    "value_df.head()"
   ]
  },
  {
   "cell_type": "code",
   "execution_count": 5,
   "metadata": {},
   "outputs": [
    {
     "data": {
      "text/plain": [
       "(34944, 12)"
      ]
     },
     "execution_count": 5,
     "metadata": {},
     "output_type": "execute_result"
    }
   ],
   "source": [
    "file_path.shape"
   ]
  },
  {
   "cell_type": "code",
   "execution_count": 6,
   "metadata": {},
   "outputs": [
    {
     "data": {
      "text/plain": [
       "Index(['State', 'Year', 'Month', 'Period', 'Drug Name', 'Death Count',\n",
       "       'Percent Complete', 'Percent Pending Investigation', 'State Name',\n",
       "       'Footnote', 'Footnote Symbol', 'Predicted Value'],\n",
       "      dtype='object')"
      ]
     },
     "execution_count": 6,
     "metadata": {},
     "output_type": "execute_result"
    }
   ],
   "source": [
    "file_path.columns"
   ]
  },
  {
   "cell_type": "markdown",
   "metadata": {},
   "source": [
    "### Save data to CSV "
   ]
  },
  {
   "cell_type": "code",
   "execution_count": null,
   "metadata": {},
   "outputs": [],
   "source": [
    "value_df.to_csv('drug_final2.csv', encoding='utf-8')"
   ]
  },
  {
   "cell_type": "code",
   "execution_count": null,
   "metadata": {},
   "outputs": [],
   "source": []
  }
 ],
 "metadata": {
  "kernelspec": {
   "display_name": "Python 3",
   "language": "python",
   "name": "python3"
  },
  "language_info": {
   "codemirror_mode": {
    "name": "ipython",
    "version": 3
   },
   "file_extension": ".py",
   "mimetype": "text/x-python",
   "name": "python",
   "nbconvert_exporter": "python",
   "pygments_lexer": "ipython3",
   "version": "3.7.6"
  }
 },
 "nbformat": 4,
 "nbformat_minor": 4
}
